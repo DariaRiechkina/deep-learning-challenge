{
 "cells": [
  {
   "cell_type": "code",
   "execution_count": 61,
   "metadata": {},
   "outputs": [],
   "source": [
    "from tensorflow.keras.models import Sequential\n",
    "from tensorflow.keras.layers import Dense"
   ]
  },
  {
   "cell_type": "code",
   "execution_count": 62,
   "metadata": {},
   "outputs": [
    {
     "data": {
      "text/html": [
       "<div>\n",
       "<style scoped>\n",
       "    .dataframe tbody tr th:only-of-type {\n",
       "        vertical-align: middle;\n",
       "    }\n",
       "\n",
       "    .dataframe tbody tr th {\n",
       "        vertical-align: top;\n",
       "    }\n",
       "\n",
       "    .dataframe thead th {\n",
       "        text-align: right;\n",
       "    }\n",
       "</style>\n",
       "<table border=\"1\" class=\"dataframe\">\n",
       "  <thead>\n",
       "    <tr style=\"text-align: right;\">\n",
       "      <th></th>\n",
       "      <th>EIN</th>\n",
       "      <th>NAME</th>\n",
       "      <th>APPLICATION_TYPE</th>\n",
       "      <th>AFFILIATION</th>\n",
       "      <th>CLASSIFICATION</th>\n",
       "      <th>USE_CASE</th>\n",
       "      <th>ORGANIZATION</th>\n",
       "      <th>STATUS</th>\n",
       "      <th>INCOME_AMT</th>\n",
       "      <th>SPECIAL_CONSIDERATIONS</th>\n",
       "      <th>ASK_AMT</th>\n",
       "      <th>IS_SUCCESSFUL</th>\n",
       "    </tr>\n",
       "  </thead>\n",
       "  <tbody>\n",
       "    <tr>\n",
       "      <th>0</th>\n",
       "      <td>10520599</td>\n",
       "      <td>BLUE KNIGHTS MOTORCYCLE CLUB</td>\n",
       "      <td>T10</td>\n",
       "      <td>Independent</td>\n",
       "      <td>C1000</td>\n",
       "      <td>ProductDev</td>\n",
       "      <td>Association</td>\n",
       "      <td>1</td>\n",
       "      <td>0</td>\n",
       "      <td>N</td>\n",
       "      <td>5000</td>\n",
       "      <td>1</td>\n",
       "    </tr>\n",
       "    <tr>\n",
       "      <th>1</th>\n",
       "      <td>10531628</td>\n",
       "      <td>AMERICAN CHESAPEAKE CLUB CHARITABLE TR</td>\n",
       "      <td>T3</td>\n",
       "      <td>Independent</td>\n",
       "      <td>C2000</td>\n",
       "      <td>Preservation</td>\n",
       "      <td>Co-operative</td>\n",
       "      <td>1</td>\n",
       "      <td>1-9999</td>\n",
       "      <td>N</td>\n",
       "      <td>108590</td>\n",
       "      <td>1</td>\n",
       "    </tr>\n",
       "    <tr>\n",
       "      <th>2</th>\n",
       "      <td>10547893</td>\n",
       "      <td>ST CLOUD PROFESSIONAL FIREFIGHTERS</td>\n",
       "      <td>T5</td>\n",
       "      <td>CompanySponsored</td>\n",
       "      <td>C3000</td>\n",
       "      <td>ProductDev</td>\n",
       "      <td>Association</td>\n",
       "      <td>1</td>\n",
       "      <td>0</td>\n",
       "      <td>N</td>\n",
       "      <td>5000</td>\n",
       "      <td>0</td>\n",
       "    </tr>\n",
       "    <tr>\n",
       "      <th>3</th>\n",
       "      <td>10553066</td>\n",
       "      <td>SOUTHSIDE ATHLETIC ASSOCIATION</td>\n",
       "      <td>T3</td>\n",
       "      <td>CompanySponsored</td>\n",
       "      <td>C2000</td>\n",
       "      <td>Preservation</td>\n",
       "      <td>Trust</td>\n",
       "      <td>1</td>\n",
       "      <td>10000-24999</td>\n",
       "      <td>N</td>\n",
       "      <td>6692</td>\n",
       "      <td>1</td>\n",
       "    </tr>\n",
       "    <tr>\n",
       "      <th>4</th>\n",
       "      <td>10556103</td>\n",
       "      <td>GENETIC RESEARCH INSTITUTE OF THE DESERT</td>\n",
       "      <td>T3</td>\n",
       "      <td>Independent</td>\n",
       "      <td>C1000</td>\n",
       "      <td>Heathcare</td>\n",
       "      <td>Trust</td>\n",
       "      <td>1</td>\n",
       "      <td>100000-499999</td>\n",
       "      <td>N</td>\n",
       "      <td>142590</td>\n",
       "      <td>1</td>\n",
       "    </tr>\n",
       "  </tbody>\n",
       "</table>\n",
       "</div>"
      ],
      "text/plain": [
       "        EIN                                      NAME APPLICATION_TYPE  \\\n",
       "0  10520599              BLUE KNIGHTS MOTORCYCLE CLUB              T10   \n",
       "1  10531628    AMERICAN CHESAPEAKE CLUB CHARITABLE TR               T3   \n",
       "2  10547893        ST CLOUD PROFESSIONAL FIREFIGHTERS               T5   \n",
       "3  10553066            SOUTHSIDE ATHLETIC ASSOCIATION               T3   \n",
       "4  10556103  GENETIC RESEARCH INSTITUTE OF THE DESERT               T3   \n",
       "\n",
       "        AFFILIATION CLASSIFICATION      USE_CASE  ORGANIZATION  STATUS  \\\n",
       "0       Independent          C1000    ProductDev   Association       1   \n",
       "1       Independent          C2000  Preservation  Co-operative       1   \n",
       "2  CompanySponsored          C3000    ProductDev   Association       1   \n",
       "3  CompanySponsored          C2000  Preservation         Trust       1   \n",
       "4       Independent          C1000     Heathcare         Trust       1   \n",
       "\n",
       "      INCOME_AMT SPECIAL_CONSIDERATIONS  ASK_AMT  IS_SUCCESSFUL  \n",
       "0              0                      N     5000              1  \n",
       "1         1-9999                      N   108590              1  \n",
       "2              0                      N     5000              0  \n",
       "3    10000-24999                      N     6692              1  \n",
       "4  100000-499999                      N   142590              1  "
      ]
     },
     "execution_count": 62,
     "metadata": {},
     "output_type": "execute_result"
    }
   ],
   "source": [
    "# Import our dependencies\n",
    "from sklearn.model_selection import train_test_split\n",
    "from sklearn.preprocessing import StandardScaler\n",
    "import pandas as pd\n",
    "import tensorflow as tf\n",
    "\n",
    "#  Import and read the charity_data.csv.\n",
    "import pandas as pd \n",
    "application_df = pd.read_csv(\"https://static.bc-edx.com/data/dl-1-2/m21/lms/starter/charity_data.csv\")\n",
    "application_df.head()"
   ]
  },
  {
   "cell_type": "code",
   "execution_count": 63,
   "metadata": {},
   "outputs": [],
   "source": [
    "application_df = application_df.drop(columns=[\"EIN\", \"NAME\"])"
   ]
  },
  {
   "cell_type": "code",
   "execution_count": 64,
   "metadata": {},
   "outputs": [
    {
     "name": "stdout",
     "output_type": "stream",
     "text": [
      "Unique values for APPLICATION_TYPE: 17\n",
      "Unique values for AFFILIATION: 6\n",
      "Unique values for CLASSIFICATION: 71\n",
      "Unique values for USE_CASE: 5\n",
      "Unique values for ORGANIZATION: 4\n",
      "Unique values for STATUS: 2\n",
      "Unique values for INCOME_AMT: 9\n",
      "Unique values for SPECIAL_CONSIDERATIONS: 2\n",
      "Unique values for ASK_AMT: 8747\n",
      "Unique values for IS_SUCCESSFUL: 2\n"
     ]
    }
   ],
   "source": [
    "for column in application_df.columns:\n",
    "    unique_values = application_df[column].nunique()\n",
    "    print(f\"Unique values for {column}: {unique_values}\")"
   ]
  },
  {
   "cell_type": "code",
   "execution_count": 65,
   "metadata": {},
   "outputs": [
    {
     "name": "stdout",
     "output_type": "stream",
     "text": [
      "T3     27037\n",
      "T4      1542\n",
      "T6      1216\n",
      "T5      1173\n",
      "T19     1065\n",
      "T8       737\n",
      "T7       725\n",
      "T10      528\n",
      "T9       156\n",
      "T13       66\n",
      "T12       27\n",
      "T2        16\n",
      "T25        3\n",
      "T14        3\n",
      "T29        2\n",
      "T15        2\n",
      "T17        1\n",
      "Name: APPLICATION_TYPE, dtype: int64\n"
     ]
    }
   ],
   "source": [
    "print(application_df['APPLICATION_TYPE'].value_counts())"
   ]
  },
  {
   "cell_type": "code",
   "execution_count": 66,
   "metadata": {},
   "outputs": [
    {
     "data": {
      "text/plain": [
       "T3       27037\n",
       "Other     2266\n",
       "T4        1542\n",
       "T6        1216\n",
       "T5        1173\n",
       "T19       1065\n",
       "Name: APPLICATION_TYPE, dtype: int64"
      ]
     },
     "execution_count": 66,
     "metadata": {},
     "output_type": "execute_result"
    }
   ],
   "source": [
    "cutoff_value = 1000  \n",
    "\n",
    "application_types_to_replace = application_df['APPLICATION_TYPE'].value_counts()[application_df['APPLICATION_TYPE'].value_counts() < cutoff_value].index.tolist()\n",
    "\n",
    "# Replace in dataframe\n",
    "for app in application_types_to_replace:\n",
    "    application_df['APPLICATION_TYPE'] = application_df['APPLICATION_TYPE'].replace(app,\"Other\")\n",
    "\n",
    "# Check to make sure binning was successful\n",
    "application_df['APPLICATION_TYPE'].value_counts()"
   ]
  },
  {
   "cell_type": "code",
   "execution_count": 67,
   "metadata": {},
   "outputs": [
    {
     "name": "stdout",
     "output_type": "stream",
     "text": [
      "C1000    17326\n",
      "C2000     6074\n",
      "C1200     4837\n",
      "C3000     1918\n",
      "C2100     1883\n",
      "         ...  \n",
      "C4120        1\n",
      "C8210        1\n",
      "C2561        1\n",
      "C4500        1\n",
      "C2150        1\n",
      "Name: CLASSIFICATION, Length: 71, dtype: int64\n"
     ]
    }
   ],
   "source": [
    "print(application_df['CLASSIFICATION'].value_counts())"
   ]
  },
  {
   "cell_type": "code",
   "execution_count": 68,
   "metadata": {},
   "outputs": [
    {
     "name": "stdout",
     "output_type": "stream",
     "text": [
      "C1000    17326\n",
      "C2000     6074\n",
      "C1200     4837\n",
      "C3000     1918\n",
      "C2100     1883\n",
      "C7000      777\n",
      "C1700      287\n",
      "C4000      194\n",
      "C5000      116\n",
      "C1270      114\n",
      "C2700      104\n",
      "C2800       95\n",
      "C7100       75\n",
      "C1300       58\n",
      "C1280       50\n",
      "C1230       36\n",
      "C1400       34\n",
      "C7200       32\n",
      "C2300       32\n",
      "C1240       30\n",
      "C8000       20\n",
      "C7120       18\n",
      "C1500       16\n",
      "C1800       15\n",
      "C6000       15\n",
      "C1250       14\n",
      "C8200       11\n",
      "C1238       10\n",
      "C1278       10\n",
      "C1235        9\n",
      "C1237        9\n",
      "C7210        7\n",
      "C2400        6\n",
      "C1720        6\n",
      "C4100        6\n",
      "C1257        5\n",
      "C1600        5\n",
      "C1260        3\n",
      "C2710        3\n",
      "C0           3\n",
      "C3200        2\n",
      "C1234        2\n",
      "C1246        2\n",
      "C1267        2\n",
      "C1256        2\n",
      "Name: CLASSIFICATION, dtype: int64\n"
     ]
    }
   ],
   "source": [
    "c_c = application_df['CLASSIFICATION'].value_counts()\n",
    "c_c1 = c_c[c_c > 1]\n",
    "print(c_c1)"
   ]
  },
  {
   "cell_type": "code",
   "execution_count": 69,
   "metadata": {},
   "outputs": [
    {
     "data": {
      "text/plain": [
       "C1000    17326\n",
       "C2000     6074\n",
       "C1200     4837\n",
       "Other     2261\n",
       "C3000     1918\n",
       "C2100     1883\n",
       "Name: CLASSIFICATION, dtype: int64"
      ]
     },
     "execution_count": 69,
     "metadata": {},
     "output_type": "execute_result"
    }
   ],
   "source": [
    "cutoff_value = 1000  \n",
    "classifications_to_replace = application_df['CLASSIFICATION'].value_counts()[application_df['CLASSIFICATION'].value_counts() < cutoff_value].index.tolist()\n",
    "# Replace in dataframe\n",
    "for cls in classifications_to_replace:\n",
    "    application_df['CLASSIFICATION'] = application_df['CLASSIFICATION'].replace(cls,\"Other\")\n",
    "    \n",
    "# Check to make sure binning was successful\n",
    "application_df['CLASSIFICATION'].value_counts()"
   ]
  },
  {
   "cell_type": "code",
   "execution_count": 70,
   "metadata": {},
   "outputs": [
    {
     "data": {
      "text/plain": [
       "SPECIAL_CONSIDERATIONS\n",
       "N    0.53233\n",
       "Y    0.62963\n",
       "Name: IS_SUCCESSFUL, dtype: float64"
      ]
     },
     "execution_count": 70,
     "metadata": {},
     "output_type": "execute_result"
    }
   ],
   "source": [
    "application_df.groupby(\"SPECIAL_CONSIDERATIONS\")[\"IS_SUCCESSFUL\"].mean()"
   ]
  },
  {
   "cell_type": "code",
   "execution_count": 71,
   "metadata": {},
   "outputs": [],
   "source": [
    "application_df.drop([\"ORGANIZATION\", \"SPECIAL_CONSIDERATIONS\"], axis = 1, inplace = True)"
   ]
  },
  {
   "cell_type": "code",
   "execution_count": 72,
   "metadata": {},
   "outputs": [],
   "source": [
    "categorical_columns = ['APPLICATION_TYPE', 'ASK_AMT', 'CLASSIFICATION', \"AFFILIATION\", 'INCOME_AMT', 'USE_CASE']\n",
    "application_df_en = pd.get_dummies(application_df[categorical_columns])\n",
    "df_processed = pd.concat([application_df, application_df_en], axis=1)\n",
    "\n",
    "# Drop the original categorical columns\n",
    "df_processed.drop(categorical_columns, axis=1, inplace=True)"
   ]
  },
  {
   "cell_type": "code",
   "execution_count": 79,
   "metadata": {},
   "outputs": [],
   "source": [
    "target = df_processed[\"IS_SUCCESSFUL\"]\n",
    "features = df_processed.drop(columns=[\"IS_SUCCESSFUL\"])\n",
    "X = features.values\n",
    "y = target.values\n",
    "\n",
    "# Split the preprocessed data into a training and testing dataset\n",
    "#  YOUR CODE GOES HERE\n",
    "X_train, X_test, y_train, y_test = train_test_split(X, y, random_state=42, stratify=y)"
   ]
  },
  {
   "cell_type": "code",
   "execution_count": 80,
   "metadata": {},
   "outputs": [],
   "source": [
    "scaler = StandardScaler()\n",
    "\n",
    "# Fit the StandardScaler\n",
    "X_scaler = scaler.fit(X_train)\n",
    "\n",
    "# Scale the data\n",
    "X_train_scaled = X_scaler.transform(X_train)\n",
    "X_test_scaled = X_scaler.transform(X_test)"
   ]
  },
  {
   "cell_type": "code",
   "execution_count": 75,
   "metadata": {},
   "outputs": [
    {
     "data": {
      "text/plain": [
       "(34299, 34)"
      ]
     },
     "execution_count": 75,
     "metadata": {},
     "output_type": "execute_result"
    }
   ],
   "source": [
    "df_processed.shape"
   ]
  },
  {
   "cell_type": "code",
   "execution_count": 81,
   "metadata": {},
   "outputs": [
    {
     "name": "stdout",
     "output_type": "stream",
     "text": [
      "Model: \"sequential_7\"\n",
      "_________________________________________________________________\n",
      " Layer (type)                Output Shape              Param #   \n",
      "=================================================================\n",
      " dense_28 (Dense)            (None, 75)                2550      \n",
      "                                                                 \n",
      " dense_29 (Dense)            (None, 40)                3040      \n",
      "                                                                 \n",
      " dense_30 (Dense)            (None, 25)                1025      \n",
      "                                                                 \n",
      " dense_31 (Dense)            (None, 1)                 26        \n",
      "                                                                 \n",
      "=================================================================\n",
      "Total params: 6641 (25.94 KB)\n",
      "Trainable params: 6641 (25.94 KB)\n",
      "Non-trainable params: 0 (0.00 Byte)\n",
      "_________________________________________________________________\n"
     ]
    }
   ],
   "source": [
    "nn = tf.keras.models.Sequential()\n",
    "\n",
    "# First hidden layer\n",
    "#  YOUR CODE GOES HERE\n",
    "# First hidden layer\n",
    "number_input_features = 33\n",
    "hidden_layer1_units = 75\n",
    "hidden_layer2_units = 40\n",
    "hidden_layer3_units = 25\n",
    "nn.add(tf.keras.layers.Dense(units=hidden_layer1_units, input_dim=number_input_features, activation='relu'))\n",
    "# Second hidden layer\n",
    "#  YOUR CODE GOES HERE\n",
    "nn.add(tf.keras.layers.Dense(units=hidden_layer2_units, activation='relu'))\n",
    "#third\n",
    "nn.add(tf.keras.layers.Dense(units=hidden_layer3_units, activation='relu'))  \n",
    "# Output layer\n",
    "#  YOUR CODE GOES HERE\n",
    "nn.add(tf.keras.layers.Dense(units=1, activation='sigmoid'))\n",
    "# Check the structure of the model\n",
    "nn.summary()"
   ]
  },
  {
   "cell_type": "code",
   "execution_count": 82,
   "metadata": {},
   "outputs": [],
   "source": [
    "nn.compile(optimizer=\"adam\", loss=\"binary_crossentropy\", metrics=[\"accuracy\"])"
   ]
  },
  {
   "cell_type": "code",
   "execution_count": 83,
   "metadata": {},
   "outputs": [
    {
     "name": "stdout",
     "output_type": "stream",
     "text": [
      "WARNING:tensorflow:`period` argument is deprecated. Please use `save_freq` to specify the frequency in number of batches seen.\n",
      "Epoch 1/105\n",
      "804/804 [==============================] - 1s 592us/step - loss: 0.5768 - accuracy: 0.7194 - val_loss: 0.5767 - val_accuracy: 0.7176\n",
      "Epoch 2/105\n",
      "804/804 [==============================] - 0s 522us/step - loss: 0.5659 - accuracy: 0.7264 - val_loss: 0.5736 - val_accuracy: 0.7185\n",
      "Epoch 3/105\n",
      "804/804 [==============================] - 0s 527us/step - loss: 0.5638 - accuracy: 0.7275 - val_loss: 0.5725 - val_accuracy: 0.7202\n",
      "Epoch 4/105\n",
      "804/804 [==============================] - 0s 529us/step - loss: 0.5627 - accuracy: 0.7281 - val_loss: 0.5714 - val_accuracy: 0.7190\n",
      "Epoch 5/105\n",
      "804/804 [==============================] - 0s 525us/step - loss: 0.5620 - accuracy: 0.7288 - val_loss: 0.5708 - val_accuracy: 0.7215\n",
      "Epoch 6/105\n",
      "804/804 [==============================] - 0s 537us/step - loss: 0.5617 - accuracy: 0.7281 - val_loss: 0.5716 - val_accuracy: 0.7198\n",
      "Epoch 7/105\n",
      "804/804 [==============================] - 1s 640us/step - loss: 0.5613 - accuracy: 0.7276 - val_loss: 0.5719 - val_accuracy: 0.7200\n",
      "Epoch 8/105\n",
      "804/804 [==============================] - 0s 520us/step - loss: 0.5605 - accuracy: 0.7293 - val_loss: 0.5708 - val_accuracy: 0.7191\n",
      "Epoch 9/105\n",
      "804/804 [==============================] - 0s 516us/step - loss: 0.5605 - accuracy: 0.7283 - val_loss: 0.5715 - val_accuracy: 0.7202\n",
      "Epoch 10/105\n",
      "804/804 [==============================] - 0s 521us/step - loss: 0.5601 - accuracy: 0.7285 - val_loss: 0.5725 - val_accuracy: 0.7202\n",
      "Epoch 11/105\n",
      "804/804 [==============================] - 0s 521us/step - loss: 0.5601 - accuracy: 0.7293 - val_loss: 0.5736 - val_accuracy: 0.7210\n",
      "Epoch 12/105\n",
      "804/804 [==============================] - 0s 518us/step - loss: 0.5600 - accuracy: 0.7286 - val_loss: 0.5706 - val_accuracy: 0.7190\n",
      "Epoch 13/105\n",
      "804/804 [==============================] - 0s 584us/step - loss: 0.5597 - accuracy: 0.7284 - val_loss: 0.5719 - val_accuracy: 0.7192\n",
      "Epoch 14/105\n",
      "804/804 [==============================] - 0s 522us/step - loss: 0.5593 - accuracy: 0.7287 - val_loss: 0.5709 - val_accuracy: 0.7200\n",
      "Epoch 15/105\n",
      "804/804 [==============================] - 0s 519us/step - loss: 0.5589 - accuracy: 0.7296 - val_loss: 0.5707 - val_accuracy: 0.7194\n",
      "Epoch 16/105\n",
      "804/804 [==============================] - 0s 519us/step - loss: 0.5588 - accuracy: 0.7294 - val_loss: 0.5704 - val_accuracy: 0.7187\n",
      "Epoch 17/105\n",
      "804/804 [==============================] - 0s 574us/step - loss: 0.5589 - accuracy: 0.7296 - val_loss: 0.5703 - val_accuracy: 0.7193\n",
      "Epoch 18/105\n",
      "804/804 [==============================] - 0s 517us/step - loss: 0.5583 - accuracy: 0.7308 - val_loss: 0.5709 - val_accuracy: 0.7180\n",
      "Epoch 19/105\n",
      "804/804 [==============================] - 0s 518us/step - loss: 0.5582 - accuracy: 0.7297 - val_loss: 0.5706 - val_accuracy: 0.7205\n",
      "Epoch 20/105\n",
      "804/804 [==============================] - 0s 519us/step - loss: 0.5587 - accuracy: 0.7300 - val_loss: 0.5704 - val_accuracy: 0.7202\n",
      "Epoch 21/105\n",
      "804/804 [==============================] - 0s 522us/step - loss: 0.5582 - accuracy: 0.7298 - val_loss: 0.5711 - val_accuracy: 0.7205\n",
      "Epoch 22/105\n",
      "804/804 [==============================] - 0s 518us/step - loss: 0.5583 - accuracy: 0.7306 - val_loss: 0.5697 - val_accuracy: 0.7198\n",
      "Epoch 23/105\n",
      "804/804 [==============================] - 0s 518us/step - loss: 0.5581 - accuracy: 0.7301 - val_loss: 0.5703 - val_accuracy: 0.7208\n",
      "Epoch 24/105\n",
      "804/804 [==============================] - 0s 516us/step - loss: 0.5581 - accuracy: 0.7302 - val_loss: 0.5716 - val_accuracy: 0.7201\n",
      "Epoch 25/105\n",
      "804/804 [==============================] - 0s 521us/step - loss: 0.5580 - accuracy: 0.7301 - val_loss: 0.5707 - val_accuracy: 0.7200\n",
      "Epoch 26/105\n",
      "804/804 [==============================] - 0s 527us/step - loss: 0.5575 - accuracy: 0.7304 - val_loss: 0.5695 - val_accuracy: 0.7212\n",
      "Epoch 27/105\n",
      "804/804 [==============================] - 0s 557us/step - loss: 0.5574 - accuracy: 0.7312 - val_loss: 0.5705 - val_accuracy: 0.7209\n",
      "Epoch 28/105\n",
      "804/804 [==============================] - 1s 628us/step - loss: 0.5576 - accuracy: 0.7309 - val_loss: 0.5689 - val_accuracy: 0.7210\n",
      "Epoch 29/105\n",
      "804/804 [==============================] - 0s 521us/step - loss: 0.5571 - accuracy: 0.7308 - val_loss: 0.5722 - val_accuracy: 0.7202\n",
      "Epoch 30/105\n",
      "804/804 [==============================] - 0s 519us/step - loss: 0.5572 - accuracy: 0.7310 - val_loss: 0.5709 - val_accuracy: 0.7200\n",
      "Epoch 31/105\n",
      "804/804 [==============================] - 0s 516us/step - loss: 0.5571 - accuracy: 0.7308 - val_loss: 0.5717 - val_accuracy: 0.7208\n",
      "Epoch 32/105\n",
      "804/804 [==============================] - 0s 520us/step - loss: 0.5571 - accuracy: 0.7310 - val_loss: 0.5699 - val_accuracy: 0.7206\n",
      "Epoch 33/105\n",
      "804/804 [==============================] - 0s 520us/step - loss: 0.5567 - accuracy: 0.7313 - val_loss: 0.5700 - val_accuracy: 0.7208\n",
      "Epoch 34/105\n",
      "804/804 [==============================] - 0s 518us/step - loss: 0.5567 - accuracy: 0.7311 - val_loss: 0.5703 - val_accuracy: 0.7212\n",
      "Epoch 35/105\n",
      "804/804 [==============================] - 0s 585us/step - loss: 0.5568 - accuracy: 0.7306 - val_loss: 0.5700 - val_accuracy: 0.7214\n",
      "Epoch 36/105\n",
      "804/804 [==============================] - 0s 543us/step - loss: 0.5563 - accuracy: 0.7313 - val_loss: 0.5694 - val_accuracy: 0.7199\n",
      "Epoch 37/105\n",
      "804/804 [==============================] - 0s 518us/step - loss: 0.5567 - accuracy: 0.7310 - val_loss: 0.5696 - val_accuracy: 0.7207\n",
      "Epoch 38/105\n",
      "804/804 [==============================] - 0s 520us/step - loss: 0.5564 - accuracy: 0.7315 - val_loss: 0.5708 - val_accuracy: 0.7213\n",
      "Epoch 39/105\n",
      "804/804 [==============================] - 0s 515us/step - loss: 0.5565 - accuracy: 0.7314 - val_loss: 0.5703 - val_accuracy: 0.7210\n",
      "Epoch 40/105\n",
      "804/804 [==============================] - 0s 519us/step - loss: 0.5565 - accuracy: 0.7311 - val_loss: 0.5698 - val_accuracy: 0.7208\n",
      "Epoch 41/105\n",
      "804/804 [==============================] - 0s 516us/step - loss: 0.5561 - accuracy: 0.7319 - val_loss: 0.5709 - val_accuracy: 0.7195\n",
      "Epoch 42/105\n",
      "804/804 [==============================] - 0s 523us/step - loss: 0.5561 - accuracy: 0.7313 - val_loss: 0.5694 - val_accuracy: 0.7206\n",
      "Epoch 43/105\n",
      "804/804 [==============================] - 0s 518us/step - loss: 0.5560 - accuracy: 0.7313 - val_loss: 0.5715 - val_accuracy: 0.7208\n",
      "Epoch 44/105\n",
      "804/804 [==============================] - 0s 542us/step - loss: 0.5561 - accuracy: 0.7310 - val_loss: 0.5702 - val_accuracy: 0.7198\n",
      "Epoch 45/105\n",
      "804/804 [==============================] - 0s 576us/step - loss: 0.5561 - accuracy: 0.7315 - val_loss: 0.5698 - val_accuracy: 0.7217\n",
      "Epoch 46/105\n",
      "804/804 [==============================] - 0s 519us/step - loss: 0.5559 - accuracy: 0.7312 - val_loss: 0.5698 - val_accuracy: 0.7214\n",
      "Epoch 47/105\n",
      "804/804 [==============================] - 0s 524us/step - loss: 0.5561 - accuracy: 0.7315 - val_loss: 0.5695 - val_accuracy: 0.7214\n",
      "Epoch 48/105\n",
      "804/804 [==============================] - 0s 529us/step - loss: 0.5556 - accuracy: 0.7314 - val_loss: 0.5691 - val_accuracy: 0.7207\n",
      "Epoch 49/105\n",
      "804/804 [==============================] - 0s 543us/step - loss: 0.5556 - accuracy: 0.7314 - val_loss: 0.5707 - val_accuracy: 0.7194\n",
      "Epoch 50/105\n",
      "804/804 [==============================] - 0s 554us/step - loss: 0.5558 - accuracy: 0.7315 - val_loss: 0.5688 - val_accuracy: 0.7209\n",
      "Epoch 51/105\n",
      "804/804 [==============================] - 0s 519us/step - loss: 0.5556 - accuracy: 0.7318 - val_loss: 0.5716 - val_accuracy: 0.7207\n",
      "Epoch 52/105\n",
      "804/804 [==============================] - 0s 521us/step - loss: 0.5553 - accuracy: 0.7318 - val_loss: 0.5728 - val_accuracy: 0.7208\n",
      "Epoch 53/105\n",
      "804/804 [==============================] - 0s 518us/step - loss: 0.5557 - accuracy: 0.7312 - val_loss: 0.5705 - val_accuracy: 0.7214\n",
      "Epoch 54/105\n",
      "804/804 [==============================] - 0s 585us/step - loss: 0.5557 - accuracy: 0.7315 - val_loss: 0.5694 - val_accuracy: 0.7214\n",
      "Epoch 55/105\n",
      "804/804 [==============================] - 0s 517us/step - loss: 0.5554 - accuracy: 0.7320 - val_loss: 0.5718 - val_accuracy: 0.7203\n",
      "Epoch 56/105\n",
      "804/804 [==============================] - 0s 519us/step - loss: 0.5553 - accuracy: 0.7317 - val_loss: 0.5701 - val_accuracy: 0.7212\n",
      "Epoch 57/105\n",
      "804/804 [==============================] - 0s 555us/step - loss: 0.5552 - accuracy: 0.7312 - val_loss: 0.5734 - val_accuracy: 0.7209\n",
      "Epoch 58/105\n",
      "804/804 [==============================] - 0s 521us/step - loss: 0.5554 - accuracy: 0.7317 - val_loss: 0.5707 - val_accuracy: 0.7213\n",
      "Epoch 59/105\n",
      "804/804 [==============================] - 0s 520us/step - loss: 0.5549 - accuracy: 0.7322 - val_loss: 0.5716 - val_accuracy: 0.7214\n",
      "Epoch 60/105\n",
      "804/804 [==============================] - 0s 546us/step - loss: 0.5549 - accuracy: 0.7322 - val_loss: 0.5706 - val_accuracy: 0.7209\n",
      "Epoch 61/105\n",
      "804/804 [==============================] - 0s 522us/step - loss: 0.5551 - accuracy: 0.7317 - val_loss: 0.5705 - val_accuracy: 0.7214\n",
      "Epoch 62/105\n",
      "804/804 [==============================] - 0s 599us/step - loss: 0.5551 - accuracy: 0.7320 - val_loss: 0.5699 - val_accuracy: 0.7205\n",
      "Epoch 63/105\n",
      "804/804 [==============================] - 0s 521us/step - loss: 0.5550 - accuracy: 0.7319 - val_loss: 0.5738 - val_accuracy: 0.7207\n",
      "Epoch 64/105\n",
      "804/804 [==============================] - 0s 550us/step - loss: 0.5548 - accuracy: 0.7316 - val_loss: 0.5699 - val_accuracy: 0.7206\n",
      "Epoch 65/105\n",
      "804/804 [==============================] - 0s 523us/step - loss: 0.5548 - accuracy: 0.7318 - val_loss: 0.5704 - val_accuracy: 0.7214\n",
      "Epoch 66/105\n",
      "804/804 [==============================] - 0s 518us/step - loss: 0.5548 - accuracy: 0.7322 - val_loss: 0.5699 - val_accuracy: 0.7214\n",
      "Epoch 67/105\n",
      "804/804 [==============================] - 0s 517us/step - loss: 0.5547 - accuracy: 0.7323 - val_loss: 0.5704 - val_accuracy: 0.7220\n",
      "Epoch 68/105\n",
      "804/804 [==============================] - 0s 540us/step - loss: 0.5547 - accuracy: 0.7327 - val_loss: 0.5719 - val_accuracy: 0.7206\n",
      "Epoch 69/105\n",
      "804/804 [==============================] - 0s 522us/step - loss: 0.5546 - accuracy: 0.7321 - val_loss: 0.5711 - val_accuracy: 0.7208\n",
      "Epoch 70/105\n",
      "804/804 [==============================] - 0s 518us/step - loss: 0.5548 - accuracy: 0.7323 - val_loss: 0.5702 - val_accuracy: 0.7215\n",
      "Epoch 71/105\n",
      "804/804 [==============================] - 0s 609us/step - loss: 0.5545 - accuracy: 0.7318 - val_loss: 0.5706 - val_accuracy: 0.7210\n",
      "Epoch 72/105\n",
      "804/804 [==============================] - 0s 529us/step - loss: 0.5544 - accuracy: 0.7324 - val_loss: 0.5721 - val_accuracy: 0.7212\n",
      "Epoch 73/105\n",
      "804/804 [==============================] - 0s 519us/step - loss: 0.5542 - accuracy: 0.7323 - val_loss: 0.5726 - val_accuracy: 0.7209\n",
      "Epoch 74/105\n",
      "804/804 [==============================] - 0s 552us/step - loss: 0.5545 - accuracy: 0.7323 - val_loss: 0.5719 - val_accuracy: 0.7208\n",
      "Epoch 75/105\n",
      "804/804 [==============================] - 0s 528us/step - loss: 0.5537 - accuracy: 0.7324 - val_loss: 0.5750 - val_accuracy: 0.7210\n",
      "Epoch 76/105\n",
      "804/804 [==============================] - 0s 520us/step - loss: 0.5546 - accuracy: 0.7316 - val_loss: 0.5715 - val_accuracy: 0.7210\n",
      "Epoch 77/105\n",
      "804/804 [==============================] - 0s 516us/step - loss: 0.5543 - accuracy: 0.7320 - val_loss: 0.5732 - val_accuracy: 0.7195\n",
      "Epoch 78/105\n",
      "804/804 [==============================] - 0s 517us/step - loss: 0.5547 - accuracy: 0.7324 - val_loss: 0.5739 - val_accuracy: 0.7209\n",
      "Epoch 79/105\n",
      "804/804 [==============================] - 1s 624us/step - loss: 0.5542 - accuracy: 0.7329 - val_loss: 0.5716 - val_accuracy: 0.7212\n",
      "Epoch 80/105\n",
      "804/804 [==============================] - 0s 521us/step - loss: 0.5540 - accuracy: 0.7325 - val_loss: 0.5739 - val_accuracy: 0.7206\n",
      "Epoch 81/105\n",
      "804/804 [==============================] - 0s 521us/step - loss: 0.5540 - accuracy: 0.7320 - val_loss: 0.5731 - val_accuracy: 0.7210\n",
      "Epoch 82/105\n",
      "804/804 [==============================] - 0s 516us/step - loss: 0.5543 - accuracy: 0.7325 - val_loss: 0.5725 - val_accuracy: 0.7199\n",
      "Epoch 83/105\n",
      "804/804 [==============================] - 0s 519us/step - loss: 0.5538 - accuracy: 0.7322 - val_loss: 0.5716 - val_accuracy: 0.7202\n",
      "Epoch 84/105\n",
      "804/804 [==============================] - 0s 522us/step - loss: 0.5539 - accuracy: 0.7320 - val_loss: 0.5728 - val_accuracy: 0.7200\n",
      "Epoch 85/105\n",
      "804/804 [==============================] - 0s 518us/step - loss: 0.5540 - accuracy: 0.7327 - val_loss: 0.5749 - val_accuracy: 0.7207\n",
      "Epoch 86/105\n",
      "804/804 [==============================] - 0s 547us/step - loss: 0.5538 - accuracy: 0.7320 - val_loss: 0.5742 - val_accuracy: 0.7213\n",
      "Epoch 87/105\n",
      "804/804 [==============================] - 0s 539us/step - loss: 0.5535 - accuracy: 0.7326 - val_loss: 0.5744 - val_accuracy: 0.7213\n",
      "Epoch 88/105\n",
      "804/804 [==============================] - 0s 586us/step - loss: 0.5538 - accuracy: 0.7325 - val_loss: 0.5754 - val_accuracy: 0.7206\n",
      "Epoch 89/105\n",
      "804/804 [==============================] - 0s 523us/step - loss: 0.5538 - accuracy: 0.7321 - val_loss: 0.5751 - val_accuracy: 0.7213\n",
      "Epoch 90/105\n",
      "804/804 [==============================] - 0s 528us/step - loss: 0.5535 - accuracy: 0.7322 - val_loss: 0.5781 - val_accuracy: 0.7203\n",
      "Epoch 91/105\n",
      "804/804 [==============================] - 0s 523us/step - loss: 0.5540 - accuracy: 0.7324 - val_loss: 0.5741 - val_accuracy: 0.7216\n",
      "Epoch 92/105\n",
      "804/804 [==============================] - 0s 516us/step - loss: 0.5537 - accuracy: 0.7324 - val_loss: 0.5751 - val_accuracy: 0.7207\n",
      "Epoch 93/105\n",
      "804/804 [==============================] - 0s 565us/step - loss: 0.5536 - accuracy: 0.7321 - val_loss: 0.5755 - val_accuracy: 0.7210\n",
      "Epoch 94/105\n",
      "804/804 [==============================] - 0s 517us/step - loss: 0.5537 - accuracy: 0.7324 - val_loss: 0.5758 - val_accuracy: 0.7208\n",
      "Epoch 95/105\n",
      "804/804 [==============================] - 0s 518us/step - loss: 0.5537 - accuracy: 0.7322 - val_loss: 0.5752 - val_accuracy: 0.7206\n",
      "Epoch 96/105\n",
      "804/804 [==============================] - 0s 575us/step - loss: 0.5544 - accuracy: 0.7321 - val_loss: 0.5769 - val_accuracy: 0.7213\n",
      "Epoch 97/105\n",
      "804/804 [==============================] - 0s 515us/step - loss: 0.5539 - accuracy: 0.7324 - val_loss: 0.5715 - val_accuracy: 0.7212\n",
      "Epoch 98/105\n",
      "804/804 [==============================] - 0s 528us/step - loss: 0.5536 - accuracy: 0.7326 - val_loss: 0.5741 - val_accuracy: 0.7207\n",
      "Epoch 99/105\n",
      "804/804 [==============================] - 0s 549us/step - loss: 0.5536 - accuracy: 0.7326 - val_loss: 0.5733 - val_accuracy: 0.7216\n",
      "Epoch 100/105\n",
      "804/804 [==============================] - 0s 518us/step - loss: 0.5532 - accuracy: 0.7326 - val_loss: 0.5745 - val_accuracy: 0.7210\n",
      "Epoch 101/105\n",
      "804/804 [==============================] - 0s 517us/step - loss: 0.5537 - accuracy: 0.7323 - val_loss: 0.5739 - val_accuracy: 0.7212\n",
      "Epoch 102/105\n",
      "804/804 [==============================] - 0s 514us/step - loss: 0.5533 - accuracy: 0.7325 - val_loss: 0.5750 - val_accuracy: 0.7209\n",
      "Epoch 103/105\n",
      "804/804 [==============================] - 0s 517us/step - loss: 0.5535 - accuracy: 0.7324 - val_loss: 0.5742 - val_accuracy: 0.7213\n",
      "Epoch 104/105\n",
      "804/804 [==============================] - 0s 516us/step - loss: 0.5533 - accuracy: 0.7324 - val_loss: 0.5749 - val_accuracy: 0.7206\n",
      "Epoch 105/105\n",
      "804/804 [==============================] - 0s 519us/step - loss: 0.5536 - accuracy: 0.7324 - val_loss: 0.5730 - val_accuracy: 0.7207\n"
     ]
    },
    {
     "data": {
      "text/plain": [
       "<keras.src.callbacks.History at 0x1273b13f0>"
      ]
     },
     "execution_count": 83,
     "metadata": {},
     "output_type": "execute_result"
    }
   ],
   "source": [
    "\n",
    "callback = tf.keras.callbacks.ModelCheckpoint(filepath=\"AlphabetSoupCharity.h5\", save_weights_only=True, save_freq=\"epoch\", period=7)\n",
    "nn.fit(X_train_scaled, y_train, epochs=105, callbacks=[callback], validation_data=(X_test_scaled, y_test))\n"
   ]
  },
  {
   "cell_type": "code",
   "execution_count": 84,
   "metadata": {},
   "outputs": [
    {
     "name": "stdout",
     "output_type": "stream",
     "text": [
      "268/268 - 0s - loss: 0.5730 - accuracy: 0.7207 - 73ms/epoch - 274us/step\n",
      "Loss: 0.5729501247406006, Accuracy: 0.7206997275352478\n"
     ]
    }
   ],
   "source": [
    "model_loss, model_accuracy = nn.evaluate(X_test_scaled,y_test,verbose=2)\n",
    "print(f\"Loss: {model_loss}, Accuracy: {model_accuracy}\")"
   ]
  }
 ],
 "metadata": {
  "kernelspec": {
   "display_name": "dev",
   "language": "python",
   "name": "python3"
  },
  "language_info": {
   "codemirror_mode": {
    "name": "ipython",
    "version": 3
   },
   "file_extension": ".py",
   "mimetype": "text/x-python",
   "name": "python",
   "nbconvert_exporter": "python",
   "pygments_lexer": "ipython3",
   "version": "3.10.12"
  },
  "orig_nbformat": 4
 },
 "nbformat": 4,
 "nbformat_minor": 2
}
